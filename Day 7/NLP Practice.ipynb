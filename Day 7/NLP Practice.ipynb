{
 "cells": [
  {
   "cell_type": "code",
   "execution_count": 4,
   "id": "experimental-youth",
   "metadata": {
    "execution": {
     "iopub.execute_input": "2021-03-08T12:00:12.659718Z",
     "iopub.status.busy": "2021-03-08T12:00:12.659718Z",
     "iopub.status.idle": "2021-03-08T12:00:20.106765Z",
     "shell.execute_reply": "2021-03-08T12:00:20.104765Z",
     "shell.execute_reply.started": "2021-03-08T12:00:12.659718Z"
    }
   },
   "outputs": [
    {
     "name": "stdout",
     "output_type": "stream",
     "text": [
      "3.0.3\n"
     ]
    }
   ],
   "source": [
    "import spacy\n",
    "print(spacy.__version__)"
   ]
  },
  {
   "cell_type": "code",
   "execution_count": 5,
   "id": "separate-mileage",
   "metadata": {
    "execution": {
     "iopub.execute_input": "2021-03-08T12:00:20.109752Z",
     "iopub.status.busy": "2021-03-08T12:00:20.108759Z",
     "iopub.status.idle": "2021-03-08T12:00:24.154559Z",
     "shell.execute_reply": "2021-03-08T12:00:24.151963Z",
     "shell.execute_reply.started": "2021-03-08T12:00:20.109752Z"
    }
   },
   "outputs": [],
   "source": [
    "nlp = spacy.load(\"en_core_web_lg\")"
   ]
  },
  {
   "cell_type": "code",
   "execution_count": 6,
   "id": "demonstrated-democracy",
   "metadata": {
    "execution": {
     "iopub.execute_input": "2021-03-08T11:42:05.824501Z",
     "iopub.status.busy": "2021-03-08T11:42:05.824501Z",
     "iopub.status.idle": "2021-03-08T11:42:05.873544Z",
     "shell.execute_reply": "2021-03-08T11:42:05.870824Z",
     "shell.execute_reply.started": "2021-03-08T11:42:05.824501Z"
    }
   },
   "outputs": [
    {
     "name": "stdout",
     "output_type": "stream",
     "text": [
      "['I', 'am', 'flying', 'to', 'Manila', '.']\n"
     ]
    }
   ],
   "source": [
    "### Tokenization\n",
    "\n",
    "doc = nlp(u'I am flying to Manila.')\n",
    "print([w.text for w in doc])"
   ]
  },
  {
   "cell_type": "code",
   "execution_count": 7,
   "id": "nearby-bones",
   "metadata": {
    "execution": {
     "iopub.execute_input": "2021-03-08T11:44:16.453772Z",
     "iopub.status.busy": "2021-03-08T11:44:16.453772Z",
     "iopub.status.idle": "2021-03-08T11:44:16.498784Z",
     "shell.execute_reply": "2021-03-08T11:44:16.496788Z",
     "shell.execute_reply.started": "2021-03-08T11:44:16.453772Z"
    }
   },
   "outputs": [
    {
     "name": "stdout",
     "output_type": "stream",
     "text": [
      "this this\n",
      "product product\n",
      "integrates integrate\n",
      "both both\n",
      "libraries library\n",
      "for for\n",
      "downloading download\n",
      "and and\n",
      "applying apply\n",
      "patches patch\n"
     ]
    }
   ],
   "source": [
    "### Lemmatization\n",
    "\n",
    "doc = nlp(u'this product integrates both libraries for downloading and applying patches')\n",
    "for token in doc:\n",
    "  print(token.text, token.lemma_)"
   ]
  },
  {
   "cell_type": "code",
   "execution_count": 12,
   "id": "enormous-terminal",
   "metadata": {
    "execution": {
     "iopub.execute_input": "2021-03-08T11:47:09.143584Z",
     "iopub.status.busy": "2021-03-08T11:47:09.143584Z",
     "iopub.status.idle": "2021-03-08T11:47:09.181787Z",
     "shell.execute_reply": "2021-03-08T11:47:09.180153Z",
     "shell.execute_reply.started": "2021-03-08T11:47:09.143584Z"
    }
   },
   "outputs": [
    {
     "name": "stdout",
     "output_type": "stream",
     "text": [
      "I | PRON | PRP\n",
      "have | AUX | VBP\n",
      "flown | VERB | VBN\n",
      "to | ADP | IN\n",
      "Cebu | PROPN | NNP\n",
      ". | PUNCT | .\n",
      "Now | ADV | RB\n",
      "I | PRON | PRP\n",
      "am | AUX | VBP\n",
      "flying | VERB | VBG\n",
      "to | ADP | IN\n",
      "Manila | PROPN | NNP\n",
      ". | PUNCT | .\n"
     ]
    }
   ],
   "source": [
    "### Part of Speech (POS) Tagging\n",
    "\n",
    "doc = nlp(u'I have flown to Cebu. Now I am flying to Manila.')\n",
    "for token in doc:\n",
    "  print(token.text, \"|\", token.pos_, \"|\", token.tag_)"
   ]
  },
  {
   "cell_type": "code",
   "execution_count": 13,
   "id": "proud-mobility",
   "metadata": {
    "execution": {
     "iopub.execute_input": "2021-03-08T11:47:22.386683Z",
     "iopub.status.busy": "2021-03-08T11:47:22.386683Z",
     "iopub.status.idle": "2021-03-08T11:47:22.399551Z",
     "shell.execute_reply": "2021-03-08T11:47:22.398643Z",
     "shell.execute_reply.started": "2021-03-08T11:47:22.386683Z"
    }
   },
   "outputs": [
    {
     "data": {
      "text/plain": [
       "'pronoun, personal'"
      ]
     },
     "execution_count": 13,
     "metadata": {},
     "output_type": "execute_result"
    }
   ],
   "source": [
    "spacy.explain(\"PRP\")"
   ]
  },
  {
   "cell_type": "code",
   "execution_count": 16,
   "id": "experimental-brand",
   "metadata": {
    "execution": {
     "iopub.execute_input": "2021-03-08T11:51:10.795455Z",
     "iopub.status.busy": "2021-03-08T11:51:10.795455Z",
     "iopub.status.idle": "2021-03-08T11:51:10.839000Z",
     "shell.execute_reply": "2021-03-08T11:51:10.837258Z",
     "shell.execute_reply.started": "2021-03-08T11:51:10.795455Z"
    }
   },
   "outputs": [
    {
     "name": "stdout",
     "output_type": "stream",
     "text": [
      "[I, have, flown, to, Cebu, .]\n",
      "[Now, I, am, flying, to, Manila, .]\n"
     ]
    }
   ],
   "source": [
    "doc = nlp(u'I have flown to Cebu. Now I am flying to Manila.')\n",
    "for sent in doc.sents:\n",
    "  print([sent[i] for i in range(len(sent))])"
   ]
  },
  {
   "cell_type": "code",
   "execution_count": 18,
   "id": "royal-cornell",
   "metadata": {
    "execution": {
     "iopub.execute_input": "2021-03-08T11:52:57.582301Z",
     "iopub.status.busy": "2021-03-08T11:52:57.581192Z",
     "iopub.status.idle": "2021-03-08T11:52:57.612929Z",
     "shell.execute_reply": "2021-03-08T11:52:57.611983Z",
     "shell.execute_reply.started": "2021-03-08T11:52:57.582301Z"
    }
   },
   "outputs": [
    {
     "data": {
      "text/plain": [
       "[The, Golden, Gate, Bridge, is, an, iconice, landmark, in, San, Francisco, .]"
      ]
     },
     "execution_count": 18,
     "metadata": {},
     "output_type": "execute_result"
    }
   ],
   "source": [
    "doc = nlp(u'The Golden Gate Bridge is an iconice landmark in San Francisco.')\n",
    "[doc[i] for i in range(len(doc))]"
   ]
  },
  {
   "cell_type": "code",
   "execution_count": 19,
   "id": "coral-latex",
   "metadata": {
    "execution": {
     "iopub.execute_input": "2021-03-08T11:56:07.524995Z",
     "iopub.status.busy": "2021-03-08T11:56:07.524995Z",
     "iopub.status.idle": "2021-03-08T11:56:08.872182Z",
     "shell.execute_reply": "2021-03-08T11:56:08.868427Z",
     "shell.execute_reply.started": "2021-03-08T11:56:07.524995Z"
    }
   },
   "outputs": [
    {
     "name": "stdout",
     "output_type": "stream",
     "text": [
      "The the DET\n",
      "Golden Gate Bridge Golden Gate Bridge PROPN\n",
      "is be AUX\n",
      "an an DET\n",
      "iconice iconice NOUN\n",
      "landmark landmark NOUN\n",
      "in in ADP\n",
      "San San PROPN\n",
      "Francisco Francisco PROPN\n",
      ". . PUNCT\n"
     ]
    }
   ],
   "source": [
    "with doc.retokenize() as retokenizer:\n",
    "  retokenizer.merge(doc[1:4])\n",
    "with doc.retokenize() as retokenizer:\n",
    "  retokenizer.merge(doc[7:9])\n",
    "  for token in doc:\n",
    "    print(token.text, token.lemma_, token.pos_)"
   ]
  },
  {
   "cell_type": "code",
   "execution_count": 6,
   "id": "timely-suite",
   "metadata": {
    "execution": {
     "iopub.execute_input": "2021-03-08T12:00:24.159510Z",
     "iopub.status.busy": "2021-03-08T12:00:24.158513Z",
     "iopub.status.idle": "2021-03-08T12:00:24.217352Z",
     "shell.execute_reply": "2021-03-08T12:00:24.214131Z",
     "shell.execute_reply.started": "2021-03-08T12:00:24.159510Z"
    }
   },
   "outputs": [
    {
     "name": "stdout",
     "output_type": "stream",
     "text": [
      "I PRON nsubj nominal subject\n",
      "want VERB ROOT None\n",
      "a DET det determiner\n",
      "green ADJ amod adjectival modifier\n",
      "apple NOUN dobj direct object\n",
      ". PUNCT punct punctuation\n"
     ]
    }
   ],
   "source": [
    "### Syntactic Parsing\n",
    "\n",
    "doc = nlp(u'I want a green apple.')\n",
    "for token in doc:\n",
    "  print(token.text, token.pos_, token.dep_, spacy.explain(token.dep_))"
   ]
  },
  {
   "cell_type": "code",
   "execution_count": 7,
   "id": "metallic-processing",
   "metadata": {
    "execution": {
     "iopub.execute_input": "2021-03-08T12:01:12.429898Z",
     "iopub.status.busy": "2021-03-08T12:01:12.429898Z",
     "iopub.status.idle": "2021-03-08T12:02:44.459007Z",
     "shell.execute_reply": "2021-03-08T12:02:44.455069Z",
     "shell.execute_reply.started": "2021-03-08T12:01:12.429898Z"
    }
   },
   "outputs": [
    {
     "name": "stderr",
     "output_type": "stream",
     "text": [
      "C:\\Users\\justine.padayao\\Anaconda3\\envs\\Data Science\\lib\\site-packages\\spacy\\displacy\\__init__.py:97: UserWarning: [W011] It looks like you're calling displacy.serve from within a Jupyter notebook or a similar environment. This likely means you're already running a local web server, so there's no need to make displaCy start another one. Instead, you should be able to replace displacy.serve with displacy.render to show the visualization.\n",
      "  warnings.warn(Warnings.W011)\n"
     ]
    },
    {
     "data": {
      "text/html": [
       "<span class=\"tex2jax_ignore\"><!DOCTYPE html>\n",
       "<html lang=\"en\">\n",
       "    <head>\n",
       "        <title>displaCy</title>\n",
       "    </head>\n",
       "\n",
       "    <body style=\"font-size: 16px; font-family: -apple-system, BlinkMacSystemFont, 'Segoe UI', Helvetica, Arial, sans-serif, 'Apple Color Emoji', 'Segoe UI Emoji', 'Segoe UI Symbol'; padding: 4rem 2rem; direction: ltr\">\n",
       "<figure style=\"margin-bottom: 6rem\">\n",
       "<svg xmlns=\"http://www.w3.org/2000/svg\" xmlns:xlink=\"http://www.w3.org/1999/xlink\" xml:lang=\"en\" id=\"8336b85ec4034fc882c098dba462e23f-0\" class=\"displacy\" width=\"925\" height=\"399.5\" direction=\"ltr\" style=\"max-width: none; height: 399.5px; color: #000000; background: #ffffff; font-family: Arial; direction: ltr\">\n",
       "<text class=\"displacy-token\" fill=\"currentColor\" text-anchor=\"middle\" y=\"309.5\">\n",
       "    <tspan class=\"displacy-word\" fill=\"currentColor\" x=\"50\">I</tspan>\n",
       "    <tspan class=\"displacy-tag\" dy=\"2em\" fill=\"currentColor\" x=\"50\">PRON</tspan>\n",
       "</text>\n",
       "\n",
       "<text class=\"displacy-token\" fill=\"currentColor\" text-anchor=\"middle\" y=\"309.5\">\n",
       "    <tspan class=\"displacy-word\" fill=\"currentColor\" x=\"225\">want</tspan>\n",
       "    <tspan class=\"displacy-tag\" dy=\"2em\" fill=\"currentColor\" x=\"225\">VERB</tspan>\n",
       "</text>\n",
       "\n",
       "<text class=\"displacy-token\" fill=\"currentColor\" text-anchor=\"middle\" y=\"309.5\">\n",
       "    <tspan class=\"displacy-word\" fill=\"currentColor\" x=\"400\">a</tspan>\n",
       "    <tspan class=\"displacy-tag\" dy=\"2em\" fill=\"currentColor\" x=\"400\">DET</tspan>\n",
       "</text>\n",
       "\n",
       "<text class=\"displacy-token\" fill=\"currentColor\" text-anchor=\"middle\" y=\"309.5\">\n",
       "    <tspan class=\"displacy-word\" fill=\"currentColor\" x=\"575\">green</tspan>\n",
       "    <tspan class=\"displacy-tag\" dy=\"2em\" fill=\"currentColor\" x=\"575\">ADJ</tspan>\n",
       "</text>\n",
       "\n",
       "<text class=\"displacy-token\" fill=\"currentColor\" text-anchor=\"middle\" y=\"309.5\">\n",
       "    <tspan class=\"displacy-word\" fill=\"currentColor\" x=\"750\">apple.</tspan>\n",
       "    <tspan class=\"displacy-tag\" dy=\"2em\" fill=\"currentColor\" x=\"750\">NOUN</tspan>\n",
       "</text>\n",
       "\n",
       "<g class=\"displacy-arrow\">\n",
       "    <path class=\"displacy-arc\" id=\"arrow-8336b85ec4034fc882c098dba462e23f-0-0\" stroke-width=\"2px\" d=\"M70,264.5 C70,177.0 215.0,177.0 215.0,264.5\" fill=\"none\" stroke=\"currentColor\"/>\n",
       "    <text dy=\"1.25em\" style=\"font-size: 0.8em; letter-spacing: 1px\">\n",
       "        <textPath xlink:href=\"#arrow-8336b85ec4034fc882c098dba462e23f-0-0\" class=\"displacy-label\" startOffset=\"50%\" side=\"left\" fill=\"currentColor\" text-anchor=\"middle\">nsubj</textPath>\n",
       "    </text>\n",
       "    <path class=\"displacy-arrowhead\" d=\"M70,266.5 L62,254.5 78,254.5\" fill=\"currentColor\"/>\n",
       "</g>\n",
       "\n",
       "<g class=\"displacy-arrow\">\n",
       "    <path class=\"displacy-arc\" id=\"arrow-8336b85ec4034fc882c098dba462e23f-0-1\" stroke-width=\"2px\" d=\"M420,264.5 C420,89.5 745.0,89.5 745.0,264.5\" fill=\"none\" stroke=\"currentColor\"/>\n",
       "    <text dy=\"1.25em\" style=\"font-size: 0.8em; letter-spacing: 1px\">\n",
       "        <textPath xlink:href=\"#arrow-8336b85ec4034fc882c098dba462e23f-0-1\" class=\"displacy-label\" startOffset=\"50%\" side=\"left\" fill=\"currentColor\" text-anchor=\"middle\">det</textPath>\n",
       "    </text>\n",
       "    <path class=\"displacy-arrowhead\" d=\"M420,266.5 L412,254.5 428,254.5\" fill=\"currentColor\"/>\n",
       "</g>\n",
       "\n",
       "<g class=\"displacy-arrow\">\n",
       "    <path class=\"displacy-arc\" id=\"arrow-8336b85ec4034fc882c098dba462e23f-0-2\" stroke-width=\"2px\" d=\"M595,264.5 C595,177.0 740.0,177.0 740.0,264.5\" fill=\"none\" stroke=\"currentColor\"/>\n",
       "    <text dy=\"1.25em\" style=\"font-size: 0.8em; letter-spacing: 1px\">\n",
       "        <textPath xlink:href=\"#arrow-8336b85ec4034fc882c098dba462e23f-0-2\" class=\"displacy-label\" startOffset=\"50%\" side=\"left\" fill=\"currentColor\" text-anchor=\"middle\">amod</textPath>\n",
       "    </text>\n",
       "    <path class=\"displacy-arrowhead\" d=\"M595,266.5 L587,254.5 603,254.5\" fill=\"currentColor\"/>\n",
       "</g>\n",
       "\n",
       "<g class=\"displacy-arrow\">\n",
       "    <path class=\"displacy-arc\" id=\"arrow-8336b85ec4034fc882c098dba462e23f-0-3\" stroke-width=\"2px\" d=\"M245,264.5 C245,2.0 750.0,2.0 750.0,264.5\" fill=\"none\" stroke=\"currentColor\"/>\n",
       "    <text dy=\"1.25em\" style=\"font-size: 0.8em; letter-spacing: 1px\">\n",
       "        <textPath xlink:href=\"#arrow-8336b85ec4034fc882c098dba462e23f-0-3\" class=\"displacy-label\" startOffset=\"50%\" side=\"left\" fill=\"currentColor\" text-anchor=\"middle\">dobj</textPath>\n",
       "    </text>\n",
       "    <path class=\"displacy-arrowhead\" d=\"M750.0,266.5 L758.0,254.5 742.0,254.5\" fill=\"currentColor\"/>\n",
       "</g>\n",
       "</svg>\n",
       "</figure>\n",
       "</body>\n",
       "</html></span>"
      ],
      "text/plain": [
       "<IPython.core.display.HTML object>"
      ]
     },
     "metadata": {},
     "output_type": "display_data"
    },
    {
     "name": "stdout",
     "output_type": "stream",
     "text": [
      "\n",
      "Using the 'dep' visualizer\n",
      "Serving on http://0.0.0.0:5000 ...\n",
      "\n",
      "Shutting down server on port 5000.\n"
     ]
    }
   ],
   "source": [
    "from spacy import displacy\n",
    "displacy.serve(doc, style = \"dep\")"
   ]
  },
  {
   "cell_type": "code",
   "execution_count": 14,
   "id": "bacterial-underground",
   "metadata": {
    "execution": {
     "iopub.execute_input": "2021-03-08T12:11:52.253230Z",
     "iopub.status.busy": "2021-03-08T12:11:52.252168Z",
     "iopub.status.idle": "2021-03-08T12:11:57.064240Z",
     "shell.execute_reply": "2021-03-08T12:11:57.062262Z",
     "shell.execute_reply.started": "2021-03-08T12:11:52.253230Z"
    }
   },
   "outputs": [
    {
     "name": "stdout",
     "output_type": "stream",
     "text": [
      "$1.5 million\n",
      "$1.2 million\n"
     ]
    }
   ],
   "source": [
    "import spacy\n",
    "nlp = spacy.load(\"en_core_web_lg\")\n",
    "doc = nlp(u'The firm earned $1.5 million in 2017. In comparison with $1.2 million in 2016')\n",
    "phrase = \"\"\n",
    "for token in doc:\n",
    "  if token.tag_ == \"$\":\n",
    "    phrase = token.text\n",
    "    i = token.i + 1\n",
    "    while doc[i].tag_ == \"CD\":\n",
    "      phrase += doc[i].text + ' '\n",
    "      i += 1\n",
    "    phrase = phrase[:-1]\n",
    "    print(phrase)"
   ]
  },
  {
   "cell_type": "code",
   "execution_count": 8,
   "id": "bored-parker",
   "metadata": {
    "execution": {
     "iopub.execute_input": "2021-03-08T12:06:25.729253Z",
     "iopub.status.busy": "2021-03-08T12:06:25.728301Z",
     "iopub.status.idle": "2021-03-08T12:06:25.743397Z",
     "shell.execute_reply": "2021-03-08T12:06:25.742428Z",
     "shell.execute_reply.started": "2021-03-08T12:06:25.729253Z"
    }
   },
   "outputs": [
    {
     "data": {
      "text/plain": [
       "'cardinal number'"
      ]
     },
     "execution_count": 8,
     "metadata": {},
     "output_type": "execute_result"
    }
   ],
   "source": [
    "spacy.explain(\"CD\")"
   ]
  },
  {
   "cell_type": "code",
   "execution_count": 15,
   "id": "israeli-elevation",
   "metadata": {
    "execution": {
     "iopub.execute_input": "2021-03-08T12:21:27.890359Z",
     "iopub.status.busy": "2021-03-08T12:21:27.889722Z",
     "iopub.status.idle": "2021-03-08T12:21:27.907260Z",
     "shell.execute_reply": "2021-03-08T12:21:27.906231Z",
     "shell.execute_reply.started": "2021-03-08T12:21:27.890359Z"
    }
   },
   "outputs": [
    {
     "name": "stdout",
     "output_type": "stream",
     "text": [
      "['$1.5 million']\n"
     ]
    }
   ],
   "source": [
    "import re\n",
    "\n",
    "pattern = \"\\$.*million\"\n",
    "test_string = \"The firm earned $1.5 million in 2017.\"\n",
    "result = re.findall(pattern, test_string)\n",
    "print(result)"
   ]
  },
  {
   "cell_type": "code",
   "execution_count": 17,
   "id": "trained-yellow",
   "metadata": {
    "execution": {
     "iopub.execute_input": "2021-03-08T12:23:17.519179Z",
     "iopub.status.busy": "2021-03-08T12:23:17.518148Z",
     "iopub.status.idle": "2021-03-08T12:23:17.539081Z",
     "shell.execute_reply": "2021-03-08T12:23:17.538136Z",
     "shell.execute_reply.started": "2021-03-08T12:23:17.519179Z"
    }
   },
   "outputs": [
    {
     "name": "stdout",
     "output_type": "stream",
     "text": [
      "['$1.5 million', '$1.2 million']\n"
     ]
    }
   ],
   "source": [
    "pattern = \"\\$.+?million\"\n",
    "test_string = \"The firm earned $1.5 million in 2017. In comparison with $1.2 million in 2016.\"\n",
    "result = re.findall(pattern, test_string)\n",
    "print(result)"
   ]
  },
  {
   "cell_type": "code",
   "execution_count": 18,
   "id": "sitting-potato",
   "metadata": {
    "execution": {
     "iopub.execute_input": "2021-03-08T12:26:05.750152Z",
     "iopub.status.busy": "2021-03-08T12:26:05.750152Z",
     "iopub.status.idle": "2021-03-08T12:26:07.570794Z",
     "shell.execute_reply": "2021-03-08T12:26:07.567749Z",
     "shell.execute_reply.started": "2021-03-08T12:26:05.750152Z"
    }
   },
   "outputs": [
    {
     "data": {
      "text/html": [
       "<span class=\"tex2jax_ignore\"><!DOCTYPE html>\n",
       "<html lang=\"en\">\n",
       "    <head>\n",
       "        <title>displaCy</title>\n",
       "    </head>\n",
       "\n",
       "    <body style=\"font-size: 16px; font-family: -apple-system, BlinkMacSystemFont, 'Segoe UI', Helvetica, Arial, sans-serif, 'Apple Color Emoji', 'Segoe UI Emoji', 'Segoe UI Symbol'; padding: 4rem 2rem; direction: ltr\">\n",
       "<figure style=\"margin-bottom: 6rem\">\n",
       "<div class=\"entities\" style=\"line-height: 2.5; direction: ltr\">I want a \n",
       "<mark class=\"entity\" style=\"background: #c887fb; padding: 0.45em 0.6em; margin: 0 0.25em; line-height: 1; border-radius: 0.35em;\">\n",
       "    Greek\n",
       "    <span style=\"font-size: 0.8em; font-weight: bold; line-height: 1; border-radius: 0.35em; vertical-align: middle; margin-left: 0.5rem\">NORP</span>\n",
       "</mark>\n",
       " pizza.</div>\n",
       "</figure>\n",
       "</body>\n",
       "</html></span>"
      ],
      "text/plain": [
       "<IPython.core.display.HTML object>"
      ]
     },
     "metadata": {},
     "output_type": "display_data"
    },
    {
     "ename": "TypeError",
     "evalue": "'module' object is not callable",
     "output_type": "error",
     "traceback": [
      "\u001b[1;31m---------------------------------------------------------------------------\u001b[0m",
      "\u001b[1;31mTypeError\u001b[0m                                 Traceback (most recent call last)",
      "\u001b[1;32m<ipython-input-18-9bc464334311>\u001b[0m in \u001b[0;36m<module>\u001b[1;34m\u001b[0m\n\u001b[0;32m      7\u001b[0m \u001b[0mhtml\u001b[0m \u001b[1;33m=\u001b[0m \u001b[0mdisplacy\u001b[0m\u001b[1;33m.\u001b[0m\u001b[0mrender\u001b[0m\u001b[1;33m(\u001b[0m\u001b[0mdoc\u001b[0m\u001b[1;33m,\u001b[0m \u001b[0mstyle\u001b[0m \u001b[1;33m=\u001b[0m \u001b[1;34m'ent'\u001b[0m\u001b[1;33m,\u001b[0m\u001b[0mpage\u001b[0m \u001b[1;33m=\u001b[0m \u001b[1;32mTrue\u001b[0m\u001b[1;33m)\u001b[0m\u001b[1;33m\u001b[0m\u001b[1;33m\u001b[0m\u001b[0m\n\u001b[0;32m      8\u001b[0m \u001b[1;33m\u001b[0m\u001b[0m\n\u001b[1;32m----> 9\u001b[1;33m \u001b[0mdisplacy\u001b[0m\u001b[1;33m(\u001b[0m\u001b[0mHTML\u001b[0m\u001b[1;33m(\u001b[0m\u001b[0mhtml\u001b[0m\u001b[1;33m)\u001b[0m\u001b[1;33m)\u001b[0m\u001b[1;33m\u001b[0m\u001b[1;33m\u001b[0m\u001b[0m\n\u001b[0m",
      "\u001b[1;31mTypeError\u001b[0m: 'module' object is not callable"
     ]
    }
   ],
   "source": [
    "from IPython.core.display import display, HTML\n",
    "\n",
    "doc = nlp(u'I want a Greek pizza.')\n",
    "\n",
    "from spacy import displacy\n",
    "\n",
    "html = displacy.render(doc, style = 'ent',page = True)\n",
    "\n",
    "displacy(HTML(html))"
   ]
  },
  {
   "cell_type": "code",
   "execution_count": 19,
   "id": "inside-warrant",
   "metadata": {
    "execution": {
     "iopub.execute_input": "2021-03-08T12:26:24.137048Z",
     "iopub.status.busy": "2021-03-08T12:26:24.137048Z",
     "iopub.status.idle": "2021-03-08T12:26:24.161738Z",
     "shell.execute_reply": "2021-03-08T12:26:24.159719Z",
     "shell.execute_reply.started": "2021-03-08T12:26:24.137048Z"
    }
   },
   "outputs": [
    {
     "data": {
      "text/plain": [
       "'Nationalities or religious or political groups'"
      ]
     },
     "execution_count": 19,
     "metadata": {},
     "output_type": "execute_result"
    }
   ],
   "source": [
    "spacy.explain(\"NORP\")"
   ]
  },
  {
   "cell_type": "code",
   "execution_count": 20,
   "id": "professional-module",
   "metadata": {
    "execution": {
     "iopub.execute_input": "2021-03-08T12:27:01.840761Z",
     "iopub.status.busy": "2021-03-08T12:27:01.839602Z",
     "iopub.status.idle": "2021-03-08T12:27:01.923843Z",
     "shell.execute_reply": "2021-03-08T12:27:01.921850Z",
     "shell.execute_reply.started": "2021-03-08T12:27:01.840761Z"
    }
   },
   "outputs": [
    {
     "data": {
      "text/html": [
       "<span class=\"tex2jax_ignore\"><!DOCTYPE html>\n",
       "<html lang=\"en\">\n",
       "    <head>\n",
       "        <title>displaCy</title>\n",
       "    </head>\n",
       "\n",
       "    <body style=\"font-size: 16px; font-family: -apple-system, BlinkMacSystemFont, 'Segoe UI', Helvetica, Arial, sans-serif, 'Apple Color Emoji', 'Segoe UI Emoji', 'Segoe UI Symbol'; padding: 4rem 2rem; direction: ltr\">\n",
       "<figure style=\"margin-bottom: 6rem\">\n",
       "<div class=\"entities\" style=\"line-height: 2.5; direction: ltr\">I want to fly to \n",
       "<mark class=\"entity\" style=\"background: #feca74; padding: 0.45em 0.6em; margin: 0 0.25em; line-height: 1; border-radius: 0.35em;\">\n",
       "    Manila\n",
       "    <span style=\"font-size: 0.8em; font-weight: bold; line-height: 1; border-radius: 0.35em; vertical-align: middle; margin-left: 0.5rem\">GPE</span>\n",
       "</mark>\n",
       ".</div>\n",
       "</figure>\n",
       "</body>\n",
       "</html></span>"
      ],
      "text/plain": [
       "<IPython.core.display.HTML object>"
      ]
     },
     "metadata": {},
     "output_type": "display_data"
    },
    {
     "ename": "TypeError",
     "evalue": "'module' object is not callable",
     "output_type": "error",
     "traceback": [
      "\u001b[1;31m---------------------------------------------------------------------------\u001b[0m",
      "\u001b[1;31mTypeError\u001b[0m                                 Traceback (most recent call last)",
      "\u001b[1;32m<ipython-input-20-035723924539>\u001b[0m in \u001b[0;36m<module>\u001b[1;34m\u001b[0m\n\u001b[0;32m      3\u001b[0m \u001b[0mhtml\u001b[0m \u001b[1;33m=\u001b[0m \u001b[0mdisplacy\u001b[0m\u001b[1;33m.\u001b[0m\u001b[0mrender\u001b[0m\u001b[1;33m(\u001b[0m\u001b[0mdoc\u001b[0m\u001b[1;33m,\u001b[0m \u001b[0mstyle\u001b[0m \u001b[1;33m=\u001b[0m \u001b[1;34m'ent'\u001b[0m\u001b[1;33m,\u001b[0m\u001b[0mpage\u001b[0m \u001b[1;33m=\u001b[0m \u001b[1;32mTrue\u001b[0m\u001b[1;33m)\u001b[0m\u001b[1;33m\u001b[0m\u001b[1;33m\u001b[0m\u001b[0m\n\u001b[0;32m      4\u001b[0m \u001b[1;33m\u001b[0m\u001b[0m\n\u001b[1;32m----> 5\u001b[1;33m \u001b[0mdisplacy\u001b[0m\u001b[1;33m(\u001b[0m\u001b[0mHTML\u001b[0m\u001b[1;33m(\u001b[0m\u001b[0mhtml\u001b[0m\u001b[1;33m)\u001b[0m\u001b[1;33m)\u001b[0m\u001b[1;33m\u001b[0m\u001b[1;33m\u001b[0m\u001b[0m\n\u001b[0m",
      "\u001b[1;31mTypeError\u001b[0m: 'module' object is not callable"
     ]
    }
   ],
   "source": [
    "\n",
    "doc = nlp(u'I want to fly to Manila.')\n",
    "\n",
    "html = displacy.render(doc, style = 'ent',page = True)\n",
    "\n",
    "displacy(HTML(html))"
   ]
  },
  {
   "cell_type": "code",
   "execution_count": 21,
   "id": "painful-omega",
   "metadata": {
    "execution": {
     "iopub.execute_input": "2021-03-08T12:27:12.224076Z",
     "iopub.status.busy": "2021-03-08T12:27:12.223079Z",
     "iopub.status.idle": "2021-03-08T12:27:12.244972Z",
     "shell.execute_reply": "2021-03-08T12:27:12.243971Z",
     "shell.execute_reply.started": "2021-03-08T12:27:12.224076Z"
    }
   },
   "outputs": [
    {
     "data": {
      "text/plain": [
       "'Countries, cities, states'"
      ]
     },
     "execution_count": 21,
     "metadata": {},
     "output_type": "execute_result"
    }
   ],
   "source": [
    "spacy.explain(\"GPE\")"
   ]
  },
  {
   "cell_type": "code",
   "execution_count": 22,
   "id": "bright-finger",
   "metadata": {
    "execution": {
     "iopub.execute_input": "2021-03-08T12:29:11.259877Z",
     "iopub.status.busy": "2021-03-08T12:29:11.259877Z",
     "iopub.status.idle": "2021-03-08T12:29:11.300868Z",
     "shell.execute_reply": "2021-03-08T12:29:11.299874Z",
     "shell.execute_reply.started": "2021-03-08T12:29:11.259877Z"
    }
   },
   "outputs": [
    {
     "data": {
      "text/plain": [
       "0.8776482403927138"
      ]
     },
     "execution_count": 22,
     "metadata": {},
     "output_type": "execute_result"
    }
   ],
   "source": [
    "### Similarity \n",
    "doc = nlp('I want a green apple.')\n",
    "doc.similarity(doc[2:5])"
   ]
  },
  {
   "cell_type": "code",
   "execution_count": 23,
   "id": "known-proof",
   "metadata": {
    "execution": {
     "iopub.execute_input": "2021-03-08T12:29:41.874404Z",
     "iopub.status.busy": "2021-03-08T12:29:41.873436Z",
     "iopub.status.idle": "2021-03-08T12:29:41.897527Z",
     "shell.execute_reply": "2021-03-08T12:29:41.896524Z",
     "shell.execute_reply.started": "2021-03-08T12:29:41.873436Z"
    }
   },
   "outputs": [
    {
     "data": {
      "text/plain": [
       "1.0"
      ]
     },
     "execution_count": 23,
     "metadata": {},
     "output_type": "execute_result"
    }
   ],
   "source": [
    "doc.similarity(doc)"
   ]
  },
  {
   "cell_type": "code",
   "execution_count": 24,
   "id": "shared-issue",
   "metadata": {
    "execution": {
     "iopub.execute_input": "2021-03-08T12:30:30.561262Z",
     "iopub.status.busy": "2021-03-08T12:30:30.560015Z",
     "iopub.status.idle": "2021-03-08T12:30:30.605779Z",
     "shell.execute_reply": "2021-03-08T12:30:30.604779Z",
     "shell.execute_reply.started": "2021-03-08T12:30:30.561012Z"
    }
   },
   "outputs": [
    {
     "data": {
      "text/plain": [
       "0.5831844168885263"
      ]
     },
     "execution_count": 24,
     "metadata": {},
     "output_type": "execute_result"
    }
   ],
   "source": [
    "nlp('apple').similarity(nlp('banana'))"
   ]
  },
  {
   "cell_type": "code",
   "execution_count": 25,
   "id": "wound-queen",
   "metadata": {
    "execution": {
     "iopub.execute_input": "2021-03-08T12:30:42.064558Z",
     "iopub.status.busy": "2021-03-08T12:30:42.063563Z",
     "iopub.status.idle": "2021-03-08T12:30:42.102558Z",
     "shell.execute_reply": "2021-03-08T12:30:42.101640Z",
     "shell.execute_reply.started": "2021-03-08T12:30:42.064558Z"
    }
   },
   "outputs": [
    {
     "data": {
      "text/plain": [
       "0.7252610345406867"
      ]
     },
     "execution_count": 25,
     "metadata": {},
     "output_type": "execute_result"
    }
   ],
   "source": [
    "nlp('king').similarity(nlp('queen'))"
   ]
  },
  {
   "cell_type": "code",
   "execution_count": 26,
   "id": "medical-diesel",
   "metadata": {
    "execution": {
     "iopub.execute_input": "2021-03-08T12:32:30.922319Z",
     "iopub.status.busy": "2021-03-08T12:32:30.922319Z",
     "iopub.status.idle": "2021-03-08T12:32:30.984207Z",
     "shell.execute_reply": "2021-03-08T12:32:30.981212Z",
     "shell.execute_reply.started": "2021-03-08T12:32:30.922319Z"
    },
    "scrolled": true
   },
   "outputs": [
    {
     "data": {
      "text/plain": [
       "array([ 2.0228e-01, -7.6618e-02,  3.7032e-01,  3.2845e-02, -4.1957e-01,\n",
       "        7.2069e-02, -3.7476e-01,  5.7460e-02, -1.2401e-02,  5.2949e-01,\n",
       "       -5.2380e-01, -1.9771e-01, -3.4147e-01,  5.3317e-01, -2.5331e-02,\n",
       "        1.7380e-01,  1.6772e-01,  8.3984e-01,  5.5107e-02,  1.0547e-01,\n",
       "        3.7872e-01,  2.4275e-01,  1.4745e-02,  5.5951e-01,  1.2521e-01,\n",
       "       -6.7596e-01,  3.5842e-01, -4.0028e-02,  9.5949e-02, -5.0690e-01,\n",
       "       -8.5318e-02,  1.7980e-01,  3.3867e-01,  1.3230e-01,  3.1021e-01,\n",
       "        2.1878e-01,  1.6853e-01,  1.9874e-01, -5.7385e-01, -1.0649e-01,\n",
       "        2.6669e-01,  1.2838e-01, -1.2803e-01, -1.3284e-01,  1.2657e-01,\n",
       "        8.6723e-01,  9.6721e-02,  4.8306e-01,  2.1271e-01, -5.4990e-02,\n",
       "       -8.2425e-02,  2.2408e-01,  2.3975e-01, -6.2260e-02,  6.2194e-01,\n",
       "       -5.9900e-01,  4.3201e-01,  2.8143e-01,  3.3842e-02, -4.8815e-01,\n",
       "       -2.1359e-01,  2.7401e-01,  2.4095e-01,  4.5950e-01, -1.8605e-01,\n",
       "       -1.0497e+00, -9.7305e-02, -1.8908e-01, -7.0929e-01,  4.0195e-01,\n",
       "       -1.8768e-01,  5.1687e-01,  1.2520e-01,  8.4150e-01,  1.2097e-01,\n",
       "        8.8239e-02, -2.9196e-02,  1.2151e-03,  5.6825e-02, -2.7421e-01,\n",
       "        2.5564e-01,  6.9793e-02, -2.2258e-01, -3.6006e-01, -2.2402e-01,\n",
       "       -5.3699e-02,  1.2022e+00,  5.4535e-01, -5.7998e-01,  1.0905e-01,\n",
       "        4.2167e-01,  2.0662e-01,  1.2936e-01, -4.1457e-02, -6.6777e-01,\n",
       "        4.0467e-01, -1.5218e-02, -2.7640e-01, -1.5611e-01, -7.9198e-02,\n",
       "        4.0037e-02, -1.2944e-01, -2.4090e-04, -2.6785e-01, -3.8115e-01,\n",
       "       -9.7245e-01,  3.1726e-01, -4.3951e-01,  4.1934e-01,  1.8353e-01,\n",
       "       -1.5260e-01, -1.0808e-01, -1.0358e+00,  7.6217e-02,  1.6519e-01,\n",
       "        2.6526e-04,  1.6616e-01, -1.5281e-01,  1.8123e-01,  7.0274e-01,\n",
       "        5.7956e-03,  5.1664e-02, -5.9745e-02, -2.7551e-01, -3.9049e-01,\n",
       "        6.1132e-02,  5.5430e-01, -8.7997e-02, -4.1681e-01,  3.2826e-01,\n",
       "       -5.2549e-01, -4.4288e-01,  8.2183e-03,  2.4486e-01, -2.2982e-01,\n",
       "       -3.4981e-01,  2.6894e-01,  3.9166e-01, -4.1904e-01,  1.6191e-01,\n",
       "       -2.6263e+00,  6.4134e-01,  3.9743e-01, -1.2868e-01, -3.1946e-01,\n",
       "       -2.5633e-01, -1.2220e-01,  3.2275e-01, -7.9933e-02, -1.5348e-01,\n",
       "        3.1505e-01,  3.0591e-01,  2.6012e-01,  1.8553e-01, -2.4043e-01,\n",
       "        4.2886e-02,  4.0622e-01, -2.4256e-01,  6.3870e-01,  6.9983e-01,\n",
       "       -1.4043e-01,  2.5209e-01,  4.8984e-01, -6.1067e-02, -3.6766e-01,\n",
       "       -5.5089e-01, -3.8265e-01, -2.0843e-01,  2.2832e-01,  5.1218e-01,\n",
       "        2.7868e-01,  4.7652e-01,  4.7951e-02, -3.4008e-01, -3.2873e-01,\n",
       "       -4.1967e-01, -7.5499e-02, -3.8954e-01, -2.9622e-02, -3.4070e-01,\n",
       "        2.2170e-01, -6.2856e-02, -5.1903e-01, -3.7774e-01, -4.3477e-03,\n",
       "       -5.8301e-01, -8.7546e-02, -2.3929e-01, -2.4711e-01, -2.5887e-01,\n",
       "       -2.9894e-01,  1.3715e-01,  2.9892e-02,  3.6544e-02, -4.9665e-01,\n",
       "       -1.8160e-01,  5.2939e-01,  2.1992e-01, -4.4514e-01,  3.7798e-01,\n",
       "       -5.7062e-01, -4.6946e-02,  8.1806e-02,  1.9279e-02,  3.3246e-01,\n",
       "       -1.4620e-01,  1.7156e-01,  3.9981e-01,  3.6217e-01,  1.2816e-01,\n",
       "        3.1644e-01,  3.7569e-01, -7.4690e-02, -4.8480e-02, -3.1401e-01,\n",
       "       -1.9286e-01, -3.1294e-01, -1.7553e-02, -1.7514e-01, -2.7587e-02,\n",
       "       -1.0000e+00,  1.8387e-01,  8.1434e-01, -1.8913e-01,  5.0999e-01,\n",
       "       -9.1960e-03, -1.9295e-03,  2.8189e-01,  2.7247e-02,  4.3409e-01,\n",
       "       -5.4967e-01, -9.7426e-02, -2.4540e-01, -1.7203e-01, -8.8650e-02,\n",
       "       -3.0298e-01, -1.3591e-01, -2.7765e-01,  3.1286e-03,  2.0556e-01,\n",
       "       -1.5772e-01, -5.2308e-01, -6.4701e-01, -3.7014e-01,  6.9393e-02,\n",
       "        1.1401e-01,  2.7594e-01, -1.3875e-01, -2.7268e-01,  6.6891e-01,\n",
       "       -5.6454e-02,  2.4017e-01, -2.6730e-01,  2.9860e-01,  1.0083e-01,\n",
       "        5.5592e-01,  3.2849e-01,  7.6858e-02,  1.5528e-01,  2.5636e-01,\n",
       "       -1.0772e-01, -1.2359e-01,  1.1827e-01, -9.9029e-02, -3.4328e-01,\n",
       "        1.1502e-01, -3.7808e-01, -3.9012e-02, -3.4593e-01, -1.9404e-01,\n",
       "       -3.3580e-01, -6.2334e-02,  2.8919e-01,  2.8032e-01, -5.3741e-01,\n",
       "        6.2794e-01,  5.6955e-02,  6.2147e-01, -2.5282e-01,  4.1670e-01,\n",
       "       -1.0108e-02, -2.5434e-01,  4.0003e-01,  4.2432e-01,  2.2672e-01,\n",
       "        1.7553e-01,  2.3049e-01,  2.8323e-01,  1.3882e-01,  3.1218e-03,\n",
       "        1.7057e-01,  3.6685e-01,  2.5247e-03, -6.4009e-01, -2.9765e-01,\n",
       "        7.8943e-01,  3.3168e-01, -1.1966e+00, -4.7156e-02,  5.3175e-01],\n",
       "      dtype=float32)"
      ]
     },
     "execution_count": 26,
     "metadata": {},
     "output_type": "execute_result"
    }
   ],
   "source": [
    "nlp('banana').vector"
   ]
  },
  {
   "cell_type": "code",
   "execution_count": null,
   "id": "civic-synthetic",
   "metadata": {},
   "outputs": [],
   "source": []
  }
 ],
 "metadata": {
  "kernelspec": {
   "display_name": "Python 3",
   "language": "python",
   "name": "python3"
  },
  "language_info": {
   "codemirror_mode": {
    "name": "ipython",
    "version": 3
   },
   "file_extension": ".py",
   "mimetype": "text/x-python",
   "name": "python",
   "nbconvert_exporter": "python",
   "pygments_lexer": "ipython3",
   "version": "3.8.5"
  }
 },
 "nbformat": 4,
 "nbformat_minor": 5
}
