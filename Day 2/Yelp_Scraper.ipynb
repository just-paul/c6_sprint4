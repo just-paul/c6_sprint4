{
 "cells": [
  {
   "cell_type": "code",
   "execution_count": 1,
   "id": "joined-thought",
   "metadata": {
    "execution": {
     "iopub.execute_input": "2021-03-02T11:41:34.370155Z",
     "iopub.status.busy": "2021-03-02T11:41:34.370155Z",
     "iopub.status.idle": "2021-03-02T11:41:34.715944Z",
     "shell.execute_reply": "2021-03-02T11:41:34.712058Z",
     "shell.execute_reply.started": "2021-03-02T11:41:34.370155Z"
    }
   },
   "outputs": [],
   "source": [
    "import requests\n",
    "from bs4 import BeautifulSoup\n",
    "import json\n",
    "\n",
    "url = 'https://api.yelp.com/v3/businesses/search'\n",
    "api_key = 'tsPElgWNE-P06baPp1ZkC2hlm6RNNyfea1cOmJdkZYlgctSvRjXDdg4xsJk95OFDt1MScjuOFz8yBKzGRJ6kekFo-LuXKPn6PqzX7QJedFVQFiiHJW_elTduQCE-YHYx'\n",
    "\n",
    "def get_business(location, term, api_key):\n",
    "  headers = {'Authorization' : 'Bearer %s' % api_key}\n",
    "  \n",
    "  data = []\n",
    "  for offset in range(0,1000,50):\n",
    "    params = {\n",
    "      \"limit\" : 50,\n",
    "      \"location\": location.replace(' ','+'),\n",
    "      \"term\": term.replace(\" \",\"+\"),\n",
    "      \"offset\" : offset\n",
    "    }\n",
    "    \n",
    "    response = requests.get(url, headers = headers, params = params)\n",
    "    if response.status_code == 200:\n",
    "      data += response.json()['businesses']\n",
    "    elif response.status_code == 400:\n",
    "      print('400 Bad Request')\n",
    "      break\n",
    "    return data"
   ]
  },
  {
   "cell_type": "code",
   "execution_count": 4,
   "id": "positive-decade",
   "metadata": {
    "execution": {
     "iopub.execute_input": "2021-03-02T11:43:13.728045Z",
     "iopub.status.busy": "2021-03-02T11:43:13.728045Z",
     "iopub.status.idle": "2021-03-02T11:43:14.442558Z",
     "shell.execute_reply": "2021-03-02T11:43:14.441559Z",
     "shell.execute_reply.started": "2021-03-02T11:43:13.728045Z"
    },
    "scrolled": true
   },
   "outputs": [],
   "source": [
    "malls = get_business('manila', 'mall', api_key)"
   ]
  },
  {
   "cell_type": "code",
   "execution_count": 5,
   "id": "demonstrated-earth",
   "metadata": {
    "execution": {
     "iopub.execute_input": "2021-03-02T11:43:17.904598Z",
     "iopub.status.busy": "2021-03-02T11:43:17.904598Z",
     "iopub.status.idle": "2021-03-02T11:43:17.926078Z",
     "shell.execute_reply": "2021-03-02T11:43:17.925159Z",
     "shell.execute_reply.started": "2021-03-02T11:43:17.904598Z"
    }
   },
   "outputs": [
    {
     "data": {
      "text/plain": [
       "50"
      ]
     },
     "execution_count": 5,
     "metadata": {},
     "output_type": "execute_result"
    }
   ],
   "source": [
    "len(malls)"
   ]
  },
  {
   "cell_type": "code",
   "execution_count": 6,
   "id": "unexpected-resolution",
   "metadata": {
    "execution": {
     "iopub.execute_input": "2021-03-02T11:43:38.420214Z",
     "iopub.status.busy": "2021-03-02T11:43:38.419171Z",
     "iopub.status.idle": "2021-03-02T11:43:38.435119Z",
     "shell.execute_reply": "2021-03-02T11:43:38.433294Z",
     "shell.execute_reply.started": "2021-03-02T11:43:38.420214Z"
    }
   },
   "outputs": [
    {
     "data": {
      "text/plain": [
       "{'id': 'BfQkXm0vItVDcnWiSjvgLA',\n",
       " 'alias': 'ayala-center-makati-city',\n",
       " 'name': 'Ayala Center',\n",
       " 'image_url': 'https://s3-media1.fl.yelpcdn.com/bphoto/In83fr1GPLBfWzCdn0BPug/o.jpg',\n",
       " 'is_closed': False,\n",
       " 'url': 'https://www.yelp.com/biz/ayala-center-makati-city?adjust_creative=961OYUUfG7Vl2Cwic-Y7UA&utm_campaign=yelp_api_v3&utm_medium=api_v3_business_search&utm_source=961OYUUfG7Vl2Cwic-Y7UA',\n",
       " 'review_count': 2,\n",
       " 'categories': [{'alias': 'shoppingcenters', 'title': 'Shopping Centers'}],\n",
       " 'rating': 5.0,\n",
       " 'coordinates': {'latitude': 14.5583514452294, 'longitude': 121.017939189102},\n",
       " 'transactions': [],\n",
       " 'location': {'address1': 'Ayala Avenue',\n",
       "  'address2': 'Makati Avenue and EDSA',\n",
       "  'address3': None,\n",
       "  'city': 'Makati City',\n",
       "  'zip_code': '1200',\n",
       "  'country': 'PH',\n",
       "  'state': 'NCR',\n",
       "  'display_address': ['Ayala Avenue',\n",
       "   'Makati Avenue and EDSA',\n",
       "   'Makati City, 1200 Metro Manila',\n",
       "   'Philippines']},\n",
       " 'phone': '+63327527272',\n",
       " 'display_phone': '+63 32 752 7272',\n",
       " 'distance': 4163.239631137524}"
      ]
     },
     "execution_count": 6,
     "metadata": {},
     "output_type": "execute_result"
    }
   ],
   "source": [
    "malls[10]"
   ]
  },
  {
   "cell_type": "code",
   "execution_count": null,
   "id": "composed-possibility",
   "metadata": {},
   "outputs": [],
   "source": []
  }
 ],
 "metadata": {
  "kernelspec": {
   "display_name": "Python 3",
   "language": "python",
   "name": "python3"
  },
  "language_info": {
   "codemirror_mode": {
    "name": "ipython",
    "version": 3
   },
   "file_extension": ".py",
   "mimetype": "text/x-python",
   "name": "python",
   "nbconvert_exporter": "python",
   "pygments_lexer": "ipython3",
   "version": "3.8.5"
  }
 },
 "nbformat": 4,
 "nbformat_minor": 5
}
