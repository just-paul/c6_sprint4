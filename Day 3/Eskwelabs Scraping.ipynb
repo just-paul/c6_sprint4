{
 "cells": [
  {
   "cell_type": "code",
   "execution_count": 13,
   "id": "better-spine",
   "metadata": {
    "execution": {
     "iopub.execute_input": "2021-03-03T11:35:34.724961Z",
     "iopub.status.busy": "2021-03-03T11:35:34.724961Z",
     "iopub.status.idle": "2021-03-03T11:36:09.102403Z",
     "shell.execute_reply": "2021-03-03T11:36:09.101754Z",
     "shell.execute_reply.started": "2021-03-03T11:35:34.724961Z"
    }
   },
   "outputs": [],
   "source": [
    "from selenium import webdriver\n",
    "from selenium.webdriver.common.keys import Keys\n",
    "from selenium.webdriver.common.by import By\n",
    "\n",
    "import time\n",
    "\n",
    "# Google\n",
    "\n",
    "PATH = r\"C:\\Users\\justine.padayao\\Documents\\chromedriver.exe\"\n",
    "driver = webdriver.Chrome(PATH)\n",
    "\n",
    "driver.get('https://google.com')\n",
    "\n",
    "search = driver.find_element_by_name('q')\n",
    "search.send_keys('eskwelabs')\n",
    "search.send_keys(Keys.RETURN)\n",
    "\n",
    "# Finding t\n",
    "\n",
    "url = driver.current_url\n",
    "driver.get(url)\n",
    "alink = driver.find_element(By.PARTIAL_LINK_TEXT, 'Eskwelabs') #'//*[@id=\"rso\"]/div/div[1]/div/div/div[1]/a/h3')\n",
    "alink.click()\n",
    "url = driver.current_url\n",
    "driver.get(url)\n",
    "\n",
    "# y = driver.find_element(By.XPATH, '//*[@id=\"__next\"]/div/main/div/section[6]/div/div[3]/article[2]')\n",
    "# print(y.text)\n",
    "# time.sleep(5)\n",
    "\n",
    "driver.quit()"
   ]
  },
  {
   "cell_type": "code",
   "execution_count": null,
   "id": "crude-wedding",
   "metadata": {},
   "outputs": [],
   "source": []
  }
 ],
 "metadata": {
  "kernelspec": {
   "display_name": "Python 3",
   "language": "python",
   "name": "python3"
  },
  "language_info": {
   "codemirror_mode": {
    "name": "ipython",
    "version": 3
   },
   "file_extension": ".py",
   "mimetype": "text/x-python",
   "name": "python",
   "nbconvert_exporter": "python",
   "pygments_lexer": "ipython3",
   "version": "3.8.5"
  }
 },
 "nbformat": 4,
 "nbformat_minor": 5
}
