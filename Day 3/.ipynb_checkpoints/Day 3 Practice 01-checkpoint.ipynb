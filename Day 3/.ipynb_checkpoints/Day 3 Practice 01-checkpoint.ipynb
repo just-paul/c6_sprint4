{
 "cells": [
  {
   "cell_type": "code",
   "execution_count": null,
   "id": "exotic-science",
   "metadata": {},
   "outputs": [],
   "source": [
    "from selenium import webdriver\n",
    "from selenium.webdriver.common.keys import Keys\n",
    "\n",
    "import time\n",
    "\n",
    "PATH = r\"C:\\Users\\justine.padayao\\Documents\\chromedriver.exe\"\n",
    "driver = webdriver.Chrome(PATH)\n",
    "\n",
    "driver.get('https://www.google.com/')\n",
    "\n",
    "search = driver.find_element_by_name('q')\n",
    "search.send_keys('Justine Paul Padayao')\n",
    "search.send_keys(Keys.return)\n",
    "\n",
    "time.sleep(5)\n",
    "\n",
    "driver.quit()"
   ]
  }
 ],
 "metadata": {
  "kernelspec": {
   "display_name": "Python 3",
   "language": "python",
   "name": "python3"
  },
  "language_info": {
   "codemirror_mode": {
    "name": "ipython",
    "version": 3
   },
   "file_extension": ".py",
   "mimetype": "text/x-python",
   "name": "python",
   "nbconvert_exporter": "python",
   "pygments_lexer": "ipython3",
   "version": "3.8.5"
  }
 },
 "nbformat": 4,
 "nbformat_minor": 5
}
